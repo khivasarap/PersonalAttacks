{
 "cells": [
  {
   "cell_type": "markdown",
   "metadata": {},
   "source": [
    "# Wikipedia Talk Data - Getting Started"
   ]
  },
  {
   "cell_type": "markdown",
   "metadata": {},
   "source": [
    "This notebook gives an introduction to working with the various data sets in [Wikipedia\n",
    "Talk](https://figshare.com/projects/Wikipedia_Talk/16731) project on Figshare. The release includes:\n",
    "\n",
    "1. a large historical corpus of discussion comments on Wikipedia talk pages\n",
    "2. a sample of over 100k comments with human labels for whether the comment contains a personal attack\n",
    "3. a sample of over 100k comments with human labels for whether the comment has aggressive tone\n",
    "\n",
    "Please refer to our [wiki](https://meta.wikimedia.org/wiki/Research:Detox/Data_Release) for documentation of the schema of each data set and our [research paper](https://arxiv.org/abs/1610.08914) for documentation on the data collection and modeling methodology. \n",
    "\n",
    "In this notebook we show how to build a simple classifier for detecting personal attacks and apply the classifier to a random sample of the comment corpus to see whether discussions on user pages have more personal attacks than discussion on article pages."
   ]
  },
  {
   "cell_type": "markdown",
   "metadata": {},
   "source": [
    "## Building a classifier for personal attacks\n",
    "In this section we will train a simple bag-of-words classifier for personal attacks using the [Wikipedia Talk Labels: Personal Attacks]() data set."
   ]
  },
  {
   "cell_type": "code",
   "execution_count": 1,
   "metadata": {},
   "outputs": [],
   "source": [
    "#Using Python 3\n",
    "import pandas as pd\n",
    "import urllib\n",
    "from sklearn.pipeline import Pipeline\n",
    "from sklearn.feature_extraction.text import CountVectorizer\n",
    "from sklearn.feature_extraction.text import TfidfTransformer\n",
    "from sklearn.tree import DecisionTreeClassifier\n",
    "from sklearn.linear_model import LogisticRegression\n",
    "from sklearn import metrics\n",
    "import seaborn as sns\n",
    "from sklearn.metrics import roc_auc_score\n",
    "from sklearn.metrics import accuracy_score\n",
    "from nltk.corpus import stopwords\n",
    "import string\n",
    "import re\n",
    "from sklearn.feature_extraction.text import TfidfVectorizer\n",
    "from sklearn.svm import LinearSVC\n",
    "import os\n",
    "%matplotlib inline\n",
    "import seaborn as sns\n",
    "import matplotlib.pyplot as plt\n"
   ]
  },
  {
   "cell_type": "code",
   "execution_count": 2,
   "metadata": {},
   "outputs": [],
   "source": [
    "# download annotated comments and annotations\n",
    "\n",
    "ANNOTATED_COMMENTS_URL = 'https://ndownloader.figshare.com/files/7554634' \n",
    "ANNOTATIONS_URL = 'https://ndownloader.figshare.com/files/7554637' \n",
    "\n",
    "def download_file(url, fname):\n",
    "    urllib.request.urlretrieve(url, fname)\n",
    "\n",
    "path_comment = os.path.isfile(os.path.join(os.getcwd(),'attack_annotated_comments.tsv'))\n",
    "path_annotate = os.path.isfile(os.path.join(os.getcwd(),'attack_annotations.tsv'))\n",
    "\n",
    "# To download only once, and not download it later                \n",
    "if not os.path.isfile(path_comment):\n",
    "    download_file(ANNOTATED_COMMENTS_URL, 'attack_annotated_comments.tsv')\n",
    "if not os.path.isfile(path_annotate):\n",
    "    download_file(ANNOTATIONS_URL, 'attack_annotations.tsv')"
   ]
  },
  {
   "cell_type": "code",
   "execution_count": 3,
   "metadata": {},
   "outputs": [],
   "source": [
    "#Populate the dataframes\n",
    "comments = pd.read_csv('attack_annotated_comments.tsv', sep = '\\t', index_col = 0)\n",
    "annotations = pd.read_csv('attack_annotations.tsv',  sep = '\\t')"
   ]
  },
  {
   "cell_type": "code",
   "execution_count": 4,
   "metadata": {
    "scrolled": false
   },
   "outputs": [
    {
     "data": {
      "text/plain": [
       "115864"
      ]
     },
     "execution_count": 4,
     "metadata": {},
     "output_type": "execute_result"
    }
   ],
   "source": [
    "len(annotations['rev_id'].unique())"
   ]
  },
  {
   "cell_type": "code",
   "execution_count": 5,
   "metadata": {},
   "outputs": [
    {
     "data": {
      "text/html": [
       "<div>\n",
       "<style scoped>\n",
       "    .dataframe tbody tr th:only-of-type {\n",
       "        vertical-align: middle;\n",
       "    }\n",
       "\n",
       "    .dataframe tbody tr th {\n",
       "        vertical-align: top;\n",
       "    }\n",
       "\n",
       "    .dataframe thead th {\n",
       "        text-align: right;\n",
       "    }\n",
       "</style>\n",
       "<table border=\"1\" class=\"dataframe\">\n",
       "  <thead>\n",
       "    <tr style=\"text-align: right;\">\n",
       "      <th></th>\n",
       "      <th>comment</th>\n",
       "      <th>year</th>\n",
       "      <th>logged_in</th>\n",
       "      <th>ns</th>\n",
       "      <th>sample</th>\n",
       "      <th>split</th>\n",
       "    </tr>\n",
       "    <tr>\n",
       "      <th>rev_id</th>\n",
       "      <th></th>\n",
       "      <th></th>\n",
       "      <th></th>\n",
       "      <th></th>\n",
       "      <th></th>\n",
       "      <th></th>\n",
       "    </tr>\n",
       "  </thead>\n",
       "  <tbody>\n",
       "    <tr>\n",
       "      <th>37675</th>\n",
       "      <td>`-NEWLINE_TOKENThis is not ``creative``.  Thos...</td>\n",
       "      <td>2002</td>\n",
       "      <td>False</td>\n",
       "      <td>article</td>\n",
       "      <td>random</td>\n",
       "      <td>train</td>\n",
       "    </tr>\n",
       "    <tr>\n",
       "      <th>44816</th>\n",
       "      <td>`NEWLINE_TOKENNEWLINE_TOKEN:: the term ``stand...</td>\n",
       "      <td>2002</td>\n",
       "      <td>False</td>\n",
       "      <td>article</td>\n",
       "      <td>random</td>\n",
       "      <td>train</td>\n",
       "    </tr>\n",
       "    <tr>\n",
       "      <th>49851</th>\n",
       "      <td>NEWLINE_TOKENNEWLINE_TOKENTrue or false, the s...</td>\n",
       "      <td>2002</td>\n",
       "      <td>False</td>\n",
       "      <td>article</td>\n",
       "      <td>random</td>\n",
       "      <td>train</td>\n",
       "    </tr>\n",
       "    <tr>\n",
       "      <th>89320</th>\n",
       "      <td>Next, maybe you could work on being less cond...</td>\n",
       "      <td>2002</td>\n",
       "      <td>True</td>\n",
       "      <td>article</td>\n",
       "      <td>random</td>\n",
       "      <td>dev</td>\n",
       "    </tr>\n",
       "    <tr>\n",
       "      <th>93890</th>\n",
       "      <td>This page will need disambiguation.</td>\n",
       "      <td>2002</td>\n",
       "      <td>True</td>\n",
       "      <td>article</td>\n",
       "      <td>random</td>\n",
       "      <td>train</td>\n",
       "    </tr>\n",
       "    <tr>\n",
       "      <th>102817</th>\n",
       "      <td>NEWLINE_TOKEN-NEWLINE_TOKENNEWLINE_TOKENImport...</td>\n",
       "      <td>2002</td>\n",
       "      <td>True</td>\n",
       "      <td>user</td>\n",
       "      <td>random</td>\n",
       "      <td>train</td>\n",
       "    </tr>\n",
       "    <tr>\n",
       "      <th>103624</th>\n",
       "      <td>I removed the following:NEWLINE_TOKENNEWLINE_T...</td>\n",
       "      <td>2002</td>\n",
       "      <td>True</td>\n",
       "      <td>article</td>\n",
       "      <td>random</td>\n",
       "      <td>train</td>\n",
       "    </tr>\n",
       "    <tr>\n",
       "      <th>111032</th>\n",
       "      <td>`:If you ever claimed in a Judaic studies prog...</td>\n",
       "      <td>2002</td>\n",
       "      <td>True</td>\n",
       "      <td>article</td>\n",
       "      <td>random</td>\n",
       "      <td>dev</td>\n",
       "    </tr>\n",
       "    <tr>\n",
       "      <th>120283</th>\n",
       "      <td>NEWLINE_TOKENNEWLINE_TOKENNEWLINE_TOKENMy apol...</td>\n",
       "      <td>2002</td>\n",
       "      <td>True</td>\n",
       "      <td>article</td>\n",
       "      <td>random</td>\n",
       "      <td>dev</td>\n",
       "    </tr>\n",
       "    <tr>\n",
       "      <th>128532</th>\n",
       "      <td>`Someone wrote:NEWLINE_TOKENMore recognizable,...</td>\n",
       "      <td>2002</td>\n",
       "      <td>True</td>\n",
       "      <td>article</td>\n",
       "      <td>random</td>\n",
       "      <td>train</td>\n",
       "    </tr>\n",
       "  </tbody>\n",
       "</table>\n",
       "</div>"
      ],
      "text/plain": [
       "                                                  comment  year  logged_in  \\\n",
       "rev_id                                                                       \n",
       "37675   `-NEWLINE_TOKENThis is not ``creative``.  Thos...  2002      False   \n",
       "44816   `NEWLINE_TOKENNEWLINE_TOKEN:: the term ``stand...  2002      False   \n",
       "49851   NEWLINE_TOKENNEWLINE_TOKENTrue or false, the s...  2002      False   \n",
       "89320    Next, maybe you could work on being less cond...  2002       True   \n",
       "93890                This page will need disambiguation.   2002       True   \n",
       "102817  NEWLINE_TOKEN-NEWLINE_TOKENNEWLINE_TOKENImport...  2002       True   \n",
       "103624  I removed the following:NEWLINE_TOKENNEWLINE_T...  2002       True   \n",
       "111032  `:If you ever claimed in a Judaic studies prog...  2002       True   \n",
       "120283  NEWLINE_TOKENNEWLINE_TOKENNEWLINE_TOKENMy apol...  2002       True   \n",
       "128532  `Someone wrote:NEWLINE_TOKENMore recognizable,...  2002       True   \n",
       "\n",
       "             ns  sample  split  \n",
       "rev_id                          \n",
       "37675   article  random  train  \n",
       "44816   article  random  train  \n",
       "49851   article  random  train  \n",
       "89320   article  random    dev  \n",
       "93890   article  random  train  \n",
       "102817     user  random  train  \n",
       "103624  article  random  train  \n",
       "111032  article  random    dev  \n",
       "120283  article  random    dev  \n",
       "128532  article  random  train  "
      ]
     },
     "execution_count": 5,
     "metadata": {},
     "output_type": "execute_result"
    }
   ],
   "source": [
    "# To visualize the data format\n",
    "comments.head(10)"
   ]
  },
  {
   "cell_type": "code",
   "execution_count": 6,
   "metadata": {
    "scrolled": true
   },
   "outputs": [
    {
     "data": {
      "text/plain": [
       "array([0., 1.])"
      ]
     },
     "execution_count": 6,
     "metadata": {},
     "output_type": "execute_result"
    }
   ],
   "source": [
    "annotations['attack'].unique()"
   ]
  },
  {
   "cell_type": "code",
   "execution_count": 7,
   "metadata": {},
   "outputs": [
    {
     "data": {
      "text/html": [
       "<div>\n",
       "<style scoped>\n",
       "    .dataframe tbody tr th:only-of-type {\n",
       "        vertical-align: middle;\n",
       "    }\n",
       "\n",
       "    .dataframe tbody tr th {\n",
       "        vertical-align: top;\n",
       "    }\n",
       "\n",
       "    .dataframe thead th {\n",
       "        text-align: right;\n",
       "    }\n",
       "</style>\n",
       "<table border=\"1\" class=\"dataframe\">\n",
       "  <thead>\n",
       "    <tr style=\"text-align: right;\">\n",
       "      <th></th>\n",
       "      <th>rev_id</th>\n",
       "      <th>worker_id</th>\n",
       "      <th>quoting_attack</th>\n",
       "      <th>recipient_attack</th>\n",
       "      <th>third_party_attack</th>\n",
       "      <th>other_attack</th>\n",
       "      <th>attack</th>\n",
       "    </tr>\n",
       "  </thead>\n",
       "  <tbody>\n",
       "    <tr>\n",
       "      <th>0</th>\n",
       "      <td>37675</td>\n",
       "      <td>1362</td>\n",
       "      <td>0.0</td>\n",
       "      <td>0.0</td>\n",
       "      <td>0.0</td>\n",
       "      <td>0.0</td>\n",
       "      <td>0.0</td>\n",
       "    </tr>\n",
       "    <tr>\n",
       "      <th>1</th>\n",
       "      <td>37675</td>\n",
       "      <td>2408</td>\n",
       "      <td>0.0</td>\n",
       "      <td>0.0</td>\n",
       "      <td>0.0</td>\n",
       "      <td>0.0</td>\n",
       "      <td>0.0</td>\n",
       "    </tr>\n",
       "    <tr>\n",
       "      <th>2</th>\n",
       "      <td>37675</td>\n",
       "      <td>1493</td>\n",
       "      <td>0.0</td>\n",
       "      <td>0.0</td>\n",
       "      <td>0.0</td>\n",
       "      <td>0.0</td>\n",
       "      <td>0.0</td>\n",
       "    </tr>\n",
       "    <tr>\n",
       "      <th>3</th>\n",
       "      <td>37675</td>\n",
       "      <td>1439</td>\n",
       "      <td>0.0</td>\n",
       "      <td>0.0</td>\n",
       "      <td>0.0</td>\n",
       "      <td>0.0</td>\n",
       "      <td>0.0</td>\n",
       "    </tr>\n",
       "    <tr>\n",
       "      <th>4</th>\n",
       "      <td>37675</td>\n",
       "      <td>170</td>\n",
       "      <td>0.0</td>\n",
       "      <td>0.0</td>\n",
       "      <td>0.0</td>\n",
       "      <td>0.0</td>\n",
       "      <td>0.0</td>\n",
       "    </tr>\n",
       "    <tr>\n",
       "      <th>5</th>\n",
       "      <td>37675</td>\n",
       "      <td>176</td>\n",
       "      <td>0.0</td>\n",
       "      <td>0.0</td>\n",
       "      <td>0.0</td>\n",
       "      <td>0.0</td>\n",
       "      <td>0.0</td>\n",
       "    </tr>\n",
       "    <tr>\n",
       "      <th>6</th>\n",
       "      <td>37675</td>\n",
       "      <td>481</td>\n",
       "      <td>0.0</td>\n",
       "      <td>0.0</td>\n",
       "      <td>0.0</td>\n",
       "      <td>0.0</td>\n",
       "      <td>0.0</td>\n",
       "    </tr>\n",
       "    <tr>\n",
       "      <th>7</th>\n",
       "      <td>37675</td>\n",
       "      <td>487</td>\n",
       "      <td>0.0</td>\n",
       "      <td>0.0</td>\n",
       "      <td>0.0</td>\n",
       "      <td>0.0</td>\n",
       "      <td>0.0</td>\n",
       "    </tr>\n",
       "    <tr>\n",
       "      <th>8</th>\n",
       "      <td>37675</td>\n",
       "      <td>578</td>\n",
       "      <td>0.0</td>\n",
       "      <td>0.0</td>\n",
       "      <td>0.0</td>\n",
       "      <td>0.0</td>\n",
       "      <td>0.0</td>\n",
       "    </tr>\n",
       "    <tr>\n",
       "      <th>9</th>\n",
       "      <td>37675</td>\n",
       "      <td>1127</td>\n",
       "      <td>0.0</td>\n",
       "      <td>0.0</td>\n",
       "      <td>0.0</td>\n",
       "      <td>0.0</td>\n",
       "      <td>0.0</td>\n",
       "    </tr>\n",
       "  </tbody>\n",
       "</table>\n",
       "</div>"
      ],
      "text/plain": [
       "   rev_id  worker_id  quoting_attack  recipient_attack  third_party_attack  \\\n",
       "0   37675       1362             0.0               0.0                 0.0   \n",
       "1   37675       2408             0.0               0.0                 0.0   \n",
       "2   37675       1493             0.0               0.0                 0.0   \n",
       "3   37675       1439             0.0               0.0                 0.0   \n",
       "4   37675        170             0.0               0.0                 0.0   \n",
       "5   37675        176             0.0               0.0                 0.0   \n",
       "6   37675        481             0.0               0.0                 0.0   \n",
       "7   37675        487             0.0               0.0                 0.0   \n",
       "8   37675        578             0.0               0.0                 0.0   \n",
       "9   37675       1127             0.0               0.0                 0.0   \n",
       "\n",
       "   other_attack  attack  \n",
       "0           0.0     0.0  \n",
       "1           0.0     0.0  \n",
       "2           0.0     0.0  \n",
       "3           0.0     0.0  \n",
       "4           0.0     0.0  \n",
       "5           0.0     0.0  \n",
       "6           0.0     0.0  \n",
       "7           0.0     0.0  \n",
       "8           0.0     0.0  \n",
       "9           0.0     0.0  "
      ]
     },
     "execution_count": 7,
     "metadata": {},
     "output_type": "execute_result"
    }
   ],
   "source": [
    "# To visualize the data format\n",
    "annotations.head(10)"
   ]
  },
  {
   "cell_type": "code",
   "execution_count": 8,
   "metadata": {},
   "outputs": [],
   "source": [
    "# labels a comment as an atack if the majority of annotators did so\n",
    "labels = annotations.groupby('rev_id')['attack'].mean() > 0.7"
   ]
  },
  {
   "cell_type": "code",
   "execution_count": 9,
   "metadata": {},
   "outputs": [],
   "source": [
    "#labels = annotations.groupby('rev_id')['attack'].median() > 0.5"
   ]
  },
  {
   "cell_type": "code",
   "execution_count": 10,
   "metadata": {},
   "outputs": [],
   "source": [
    "# join labels and comments\n",
    "comments['attack'] = labels"
   ]
  },
  {
   "cell_type": "code",
   "execution_count": 11,
   "metadata": {},
   "outputs": [],
   "source": [
    "# remove newline and tab tokens\n",
    "comments['comment'] = comments['comment'].apply(lambda x: x.replace(\"NEWLINE_TOKEN\", \" \"))\n",
    "comments['comment'] = comments['comment'].apply(lambda x: x.replace(\"TAB_TOKEN\", \" \"))\n",
    "#Remove punctuations\n",
    "string.punctuation\n",
    "def remove_punct(text):\n",
    "    text  = \"\".join([c for c in text if c not in string.punctuation])\n",
    "    text = re.sub('[0-9]+', '', text)\n",
    "    return text\n",
    "# Apply the method on comment and remove punctuations\n",
    "comments['comment'] = comments['comment'].apply(lambda x: remove_punct(x))"
   ]
  },
  {
   "cell_type": "code",
   "execution_count": 12,
   "metadata": {},
   "outputs": [
    {
     "data": {
      "text/html": [
       "<div>\n",
       "<style scoped>\n",
       "    .dataframe tbody tr th:only-of-type {\n",
       "        vertical-align: middle;\n",
       "    }\n",
       "\n",
       "    .dataframe tbody tr th {\n",
       "        vertical-align: top;\n",
       "    }\n",
       "\n",
       "    .dataframe thead th {\n",
       "        text-align: right;\n",
       "    }\n",
       "</style>\n",
       "<table border=\"1\" class=\"dataframe\">\n",
       "  <thead>\n",
       "    <tr style=\"text-align: right;\">\n",
       "      <th></th>\n",
       "      <th>comment</th>\n",
       "      <th>year</th>\n",
       "      <th>logged_in</th>\n",
       "      <th>ns</th>\n",
       "      <th>sample</th>\n",
       "      <th>split</th>\n",
       "      <th>attack</th>\n",
       "    </tr>\n",
       "    <tr>\n",
       "      <th>rev_id</th>\n",
       "      <th></th>\n",
       "      <th></th>\n",
       "      <th></th>\n",
       "      <th></th>\n",
       "      <th></th>\n",
       "      <th></th>\n",
       "      <th></th>\n",
       "    </tr>\n",
       "  </thead>\n",
       "  <tbody>\n",
       "    <tr>\n",
       "      <th>37675</th>\n",
       "      <td>This is not creative  Those are the dictionary definitions of the terms insurance and ensurance as properly applied to destruction  If you dont understand that fine legitimate criticism Ill write up three man cell and bounty hunter and then it will be easy to understand why ensured and insured are different  and why both differ from assured  The sentence you quote is absolutely neutral  You just arent familiar with the underlying theory of strikeback eg submarines as employed in nuclear warfare guiding the insurance nor likely the three man cell structure that kept the IRA from being broken by the British  If thats my fault fine I can fix that to explain  But theres nothing personal or creative about it  Im tired of arguing with you  Re the other article multiparty turns up plenty and there is more use of mutually than mutual  If I were to apply your standard Id be moving Mutual Assured Destruction to talk for not appealing to a Reagan voters biases about its effectiveness and for dropping the ly  There is a double standard in your edits  If it comes from some US history book like peace movement or MAD as defined in  you like it even if the definition is totally useless in  and only of historical interest    If it makes any evenobvious connection or implication from the language chosen in multiple professionspecific terms you consider it somehow nonneutral  Gandhi thinks eye for an eye describes riots death penalty and war all at once but you dont  What do you know that Gandhi doesnt  Guess what  reality is not neutral  Current use of terms is slightly more controversial  Neutrality requires negotiation and some willingness to learn  This is your problem not mine  You may dislike the writing fine that can be fixed  But disregarding fundamental axioms of philosphy with names that recur in multiple phrases or failing to make critical distinctions like insurance versus assurance versus ensurance which are made in one quote by an Air Force general in an incontext quote is just a disservice to the reader  If someone comes here to research a topic like MAD they want some context beyond history  If this is a history book fine its a history book  But that wasnt what it was claimed to be</td>\n",
       "      <td>2002</td>\n",
       "      <td>False</td>\n",
       "      <td>article</td>\n",
       "      <td>random</td>\n",
       "      <td>train</td>\n",
       "      <td>False</td>\n",
       "    </tr>\n",
       "    <tr>\n",
       "      <th>44816</th>\n",
       "      <td>the term standard model is itself less NPOV than I think wed prefer   if its newage speak then a lot of oldage people speak it  Karl Popper the Pope etc  heres Karl Poppers view of this   The clearest title for this article would be particle physics cosmology  but as I say that would require broader treatment of issues like the Anthropic Principle cognitive bias beyond the particle physics zoo etc   as to accelerators its clear that while they are in use someone is still looking for particles  So this is not yet a settled cosmology so certain that we abandon the search nor is it an arbitrary foundation ontology as you suggest not subject to question</td>\n",
       "      <td>2002</td>\n",
       "      <td>False</td>\n",
       "      <td>article</td>\n",
       "      <td>random</td>\n",
       "      <td>train</td>\n",
       "      <td>False</td>\n",
       "    </tr>\n",
       "    <tr>\n",
       "      <th>49851</th>\n",
       "      <td>True or false the situation as of March  was such  A Saudi proposal of Land for Peace AND recognition by ALL arab countries was made The day the proposal was to be made formal by the Arab League was the day the Israelis under the command of Ariel Sharon began the invasion of the Palestinian selfrule areas userArab</td>\n",
       "      <td>2002</td>\n",
       "      <td>False</td>\n",
       "      <td>article</td>\n",
       "      <td>random</td>\n",
       "      <td>train</td>\n",
       "      <td>False</td>\n",
       "    </tr>\n",
       "    <tr>\n",
       "      <th>89320</th>\n",
       "      <td>Next maybe you could work on being less condescending with your suggestions about reading the naming conventions and FDL both of which I read quite a while ago thanks I really liked the bit where you were explaining why you had no interest in fixing things I complained about because you felt insulted yet you were being extremely insulting at the time With any luck you can learn to be less of a jerk GregLindahl</td>\n",
       "      <td>2002</td>\n",
       "      <td>True</td>\n",
       "      <td>article</td>\n",
       "      <td>random</td>\n",
       "      <td>dev</td>\n",
       "      <td>False</td>\n",
       "    </tr>\n",
       "    <tr>\n",
       "      <th>93890</th>\n",
       "      <td>This page will need disambiguation</td>\n",
       "      <td>2002</td>\n",
       "      <td>True</td>\n",
       "      <td>article</td>\n",
       "      <td>random</td>\n",
       "      <td>train</td>\n",
       "      <td>False</td>\n",
       "    </tr>\n",
       "    <tr>\n",
       "      <th>102817</th>\n",
       "      <td>Important note for all sysops There is a bug in the administrative move feature that truncates the moved history and changes the edit times  Please do not use this feature until this bug is fixed More information can be found in the talk of  and  Thank you</td>\n",
       "      <td>2002</td>\n",
       "      <td>True</td>\n",
       "      <td>user</td>\n",
       "      <td>random</td>\n",
       "      <td>train</td>\n",
       "      <td>False</td>\n",
       "    </tr>\n",
       "    <tr>\n",
       "      <th>103624</th>\n",
       "      <td>I removed the following  All names of early Polish rulers are ficticious and therefore this index naming Oda von Haldensleben and her husband Dagome records for the first time rulers of the Polanen tribe Therefore it is indicated as being the first document of the later developing land named Poland  This is quite a comment All names are fictitious It deserves at least some backing</td>\n",
       "      <td>2002</td>\n",
       "      <td>True</td>\n",
       "      <td>article</td>\n",
       "      <td>random</td>\n",
       "      <td>train</td>\n",
       "      <td>False</td>\n",
       "    </tr>\n",
       "    <tr>\n",
       "      <th>111032</th>\n",
       "      <td>If you ever claimed in a Judaic studies program that ultraOrthodox Jews dont have rabbis or dont have synagogues you would be laughed out of the room   I am beginning to see the problem you have You see you do not know how to read what other people say without attaching your personal bias to it Never once did I say that ultraOrthodox Jews have no rabbis or synagogues I DID say that the role of the rabbi and synagogue in ultraOrthodox Judaism is minimal when compared with say Conservative Judaism They are not clergy in the traditional Western sense of the word That is a fact As for synagogues they exist but they are not essential Minyan a quorum of ten adult males in ultraOrthodox law is essential You can have a minyan without a synagogue but a synagogue without a minyan is an empty building You can laugh all you want but it doesnt change the facts It may seem strange to you but take the statement to anyone who actually knows something I want to know who laughs then   If you ever claimed in a recognized Judaica studies program that a significant number of ultraOrthodox rabbis accept and follow Modern Orthodox responsa instead of their own people would look at you as if you had two heads   Also a silly point If you were to draw such sharp distinctions between ultraOrthodox and Modern Orthodox Judaism in a recognized Judaic Studies program they would not know what you are talking about A That statement is false because responsa in Orthodoxy does not work on the basis of someones synagogue affiliation B What is a Modern Orthodox responsa versus an ultraOrthodox responsa C In cases where things like hashgacha kosher certification etc are debated you will find in most cases that it is not a question of responsa If you know something about responsa literature in general which apparently you do not there are degrees of acceptance For example halav yisrael milk under rabbinical supervision during milking to ensure that it comes from a cow Most modernOrthodox Jews do not insist on it t on the basis of a responsa by Rabbi Moshe Feinstein who determined that American government supervision is sufficient Most ultraOrthodox Jews do insist on it They do not reject the responsa In fact Moshe Feinstein Reb Moshe as he was called was considered the leading halachic authority for the American ultraOrthodox community in the past fifty years They will say that the ruling is right BUT they want to be machmir more strict on themselves meaning more pious It is not a rejection It is simply being stricter Ovadya Yoseph said women could wear pants instead of skirts Would any of his daughters or daughtersinlaw be caught dead in pants No way They are machmir   You just cant make this stuff up Danny   I dunno I seem to be giving answers to everything you say and my answers are based on sources I am not making things up I am simply stating things that no matter how inconceivable it may be you do not know   Stop trying to remake the ultraOrthodox in your own image Its not good history Frankly I dont care what is on your resume It doesnt justify writing such nonsense  RK   Personal attacks I will say that your intellectual arrogance coupled with your apparent ignorance do not put you in a very good light   In my professional life I have researched and written extensively on this field developed relationships  both working and personal  with many of the people involved and worked on several important documentary films on the topic I think I have a sense of what NPOV is and a statement that the ultraOrthodox hate the nonultraOrthodox just doesnt make the mark    Is beating the shit out of nonOrthodox Jews an act of love Is calling them worse than Hitler an act of love Is accusing them of creating the Holocaust an act of tolerance Danny you can protest all you like but you obviously so immersed in an ultraOrthodox worldview that you cant see the forest for the trees This is violent hatespeech and it frightens me to see an educuated person making apologetics for it RK   Then it must frighten you even more knowing that I was actually there and on one occasion actually hit Why Because I do not feel the same antagonism that you do Because I see some distasteful remarks in a certain context You say in your diatribe that you want everyone to sit together and sing a Shlomo Carlebach niggun Just answer me this though Would Reb Shloime have davened in a shul without a mehitza   Oh and haredi does not mean trembling as you originally wrote at the top of the article In fact that was kind of funny You were apparently confused with the film Trembling Before God which</td>\n",
       "      <td>2002</td>\n",
       "      <td>True</td>\n",
       "      <td>article</td>\n",
       "      <td>random</td>\n",
       "      <td>dev</td>\n",
       "      <td>False</td>\n",
       "    </tr>\n",
       "    <tr>\n",
       "      <th>120283</th>\n",
       "      <td>My apologies  Im English I watch cricket I know nothing Maybe I was thinking of the time he spent in the Army or maybe I was thinking of Elvis or something Im glad the page got improved</td>\n",
       "      <td>2002</td>\n",
       "      <td>True</td>\n",
       "      <td>article</td>\n",
       "      <td>random</td>\n",
       "      <td>dev</td>\n",
       "      <td>False</td>\n",
       "    </tr>\n",
       "    <tr>\n",
       "      <th>128532</th>\n",
       "      <td>Someone wrote More recognizable perhaps is a type of what is generally called rock and roll called folk rock or simply folk which included performers such as Joan Baez Bob Dylan Simon and Garfunkel The Mamas and the Papas and many others   Ive tried to clarify this Folk rock is used very specifically and is typically far more recognised by instrumentation than form Many folk musicians of the s Tom Paxton Phil Ochs etc sang new topical material which distinguished them from traditional folk musicians but in the folk idiom acoustic instruments traditional arrangements and often traditional melodies  Re the comment about marketers in the first paragraph If language reflects common usage what is now called folk music has as much right to the name as any other form Gareth Owen  To the latter fair enough but does the first paragraph actually imply otherwise LMS  I like the page in general but wonder if the following is unnecessarily cynical implying as it does a financial rather than artistic incentive to change musical styles Some of these performers of which Joan Baez is an excellent example began their commercial music careers performing traditional music in a traditional idiom but soon transformed their style and accompaniment to suit popular tastes  Ya know I agree but I dont know how to change it right off Anyone else want to give it a stab LMS  The deletions are merely of things that seemed redundant Additions may solve the problem of tone mentioned above One bit of the original puzzles me so I corrected the grammar but left it inbut what does unrecognizable to its source actually mean  I like the new additionslots of good new information here I added some more The problem now is that the article is rambling and disorganized and I am probably not the best person to organize and clarify it BTW using the word purist without the quotes makes it sound as if the authors of the article are not purists which we dont want to imply  See neutral point of view LMS  Perhaps someone who knows the facts  could add in Skiffle music from whence the Beatles sprang which was evidently a British folk form in the s  Certainly the Beatles stole er utilised many folk forms in their music</td>\n",
       "      <td>2002</td>\n",
       "      <td>True</td>\n",
       "      <td>article</td>\n",
       "      <td>random</td>\n",
       "      <td>train</td>\n",
       "      <td>False</td>\n",
       "    </tr>\n",
       "  </tbody>\n",
       "</table>\n",
       "</div>"
      ],
      "text/plain": [
       "                                                                                                                                                                                                                                                                                                                                                                                                                                                                                                                                                                                                                                                                                                                                                                                                                                                                                                                                                                                                                                                                                                                                                                                                                                                                                                                                                                                                                                                                                                                                                                                                                                                                                                                                                                                                                                                                                                                                                                                                                                                                                                                                                                                                                                                                                                                                                                                                                                                                                                                                                                                                                                                                                                                                                                                                                                                                                                                                                                                                                                                                                                                                                                                                                                                                                                                                                                                                                                                                                                                                                                                                                                                                                                                                                                                                                                                                                                                                                                                                                                                                                                                                                                                                                                                                                                                                                                                                                                                                                                                                                                                                                                                                                                                                                                                              comment  \\\n",
       "rev_id                                                                                                                                                                                                                                                                                                                                                                                                                                                                                                                                                                                                                                                                                                                                                                                                                                                                                                                                                                                                                                                                                                                                                                                                                                                                                                                                                                                                                                                                                                                                                                                                                                                                                                                                                                                                                                                                                                                                                                                                                                                                                                                                                                                                                                                                                                                                                                                                                                                                                                                                                                                                                                                                                                                                                                                                                                                                                                                                                                                                                                                                                                                                                                                                                                                                                                                                                                                                                                                                                                                                                                                                                                                                                                                                                                                                                                                                                                                                                                                                                                                                                                                                                                                                                                                                                                                                                                                                                                                                                                                                                                                                                                                                                                                                                                                                  \n",
       "37675                                                                                                                                                                                                                                                                                                                                                                                                                                                                                                                                                                                                                                                                                                                                                                                                                                                                                                                                                                                                                                                                                                                                                                                                                                                                                                                                                                                                                                                                                                                                                                                                                                                                                                                                                                                                                                                                                                                                                                                                                                                                                                                                                                                                                                                                                                                                                                                                                                                                                      This is not creative  Those are the dictionary definitions of the terms insurance and ensurance as properly applied to destruction  If you dont understand that fine legitimate criticism Ill write up three man cell and bounty hunter and then it will be easy to understand why ensured and insured are different  and why both differ from assured  The sentence you quote is absolutely neutral  You just arent familiar with the underlying theory of strikeback eg submarines as employed in nuclear warfare guiding the insurance nor likely the three man cell structure that kept the IRA from being broken by the British  If thats my fault fine I can fix that to explain  But theres nothing personal or creative about it  Im tired of arguing with you  Re the other article multiparty turns up plenty and there is more use of mutually than mutual  If I were to apply your standard Id be moving Mutual Assured Destruction to talk for not appealing to a Reagan voters biases about its effectiveness and for dropping the ly  There is a double standard in your edits  If it comes from some US history book like peace movement or MAD as defined in  you like it even if the definition is totally useless in  and only of historical interest    If it makes any evenobvious connection or implication from the language chosen in multiple professionspecific terms you consider it somehow nonneutral  Gandhi thinks eye for an eye describes riots death penalty and war all at once but you dont  What do you know that Gandhi doesnt  Guess what  reality is not neutral  Current use of terms is slightly more controversial  Neutrality requires negotiation and some willingness to learn  This is your problem not mine  You may dislike the writing fine that can be fixed  But disregarding fundamental axioms of philosphy with names that recur in multiple phrases or failing to make critical distinctions like insurance versus assurance versus ensurance which are made in one quote by an Air Force general in an incontext quote is just a disservice to the reader  If someone comes here to research a topic like MAD they want some context beyond history  If this is a history book fine its a history book  But that wasnt what it was claimed to be    \n",
       "44816                                                                                                                                                                                                                                                                                                                                                                                                                                                                                                                                                                                                                                                                                                                                                                                                                                                                                                                                                                                                                                                                                                                                                                                                                                                                                                                                                                                                                                                                                                                                                                                                                                                                                                                                                                                                                                                                                                                                                                                                                                                                                                                                                                                                                                                                                                                                                                                                                                                                                                                                                                                                                                                                                                                                                                                                                                                                                                                                                                                                                                                                                                                                                                                                                                                                                                                                                                                                                                                                                                                                                                                                                                                                                                                                                                                                                                                                                                                                                                                                                                                                                                               the term standard model is itself less NPOV than I think wed prefer   if its newage speak then a lot of oldage people speak it  Karl Popper the Pope etc  heres Karl Poppers view of this   The clearest title for this article would be particle physics cosmology  but as I say that would require broader treatment of issues like the Anthropic Principle cognitive bias beyond the particle physics zoo etc   as to accelerators its clear that while they are in use someone is still looking for particles  So this is not yet a settled cosmology so certain that we abandon the search nor is it an arbitrary foundation ontology as you suggest not subject to question   \n",
       "49851                                                                                                                                                                                                                                                                                                                                                                                                                                                                                                                                                                                                                                                                                                                                                                                                                                                                                                                                                                                                                                                                                                                                                                                                                                                                                                                                                                                                                                                                                                                                                                                                                                                                                                                                                                                                                                                                                                                                                                                                                                                                                                                                                                                                                                                                                                                                                                                                                                                                                                                                                                                                                                                                                                                                                                                                                                                                                                                                                                                                                                                                                                                                                                                                                                                                                                                                                                                                                                                                                                                                                                                                                                                                                                                                                                                                                                                                                                                                                                                                                                                                                                                                                                                                                                                                                                                                                                                                                                                                     True or false the situation as of March  was such  A Saudi proposal of Land for Peace AND recognition by ALL arab countries was made The day the proposal was to be made formal by the Arab League was the day the Israelis under the command of Ariel Sharon began the invasion of the Palestinian selfrule areas userArab   \n",
       "89320                                                                                                                                                                                                                                                                                                                                                                                                                                                                                                                                                                                                                                                                                                                                                                                                                                                                                                                                                                                                                                                                                                                                                                                                                                                                                                                                                                                                                                                                                                                                                                                                                                                                                                                                                                                                                                                                                                                                                                                                                                                                                                                                                                                                                                                                                                                                                                                                                                                                                                                                                                                                                                                                                                                                                                                                                                                                                                                                                                                                                                                                                                                                                                                                                                                                                                                                                                                                                                                                                                                                                                                                                                                                                                                                                                                                                                                                                                                                                                                                                                                                                                                                                                                                                                                                                                                                                            Next maybe you could work on being less condescending with your suggestions about reading the naming conventions and FDL both of which I read quite a while ago thanks I really liked the bit where you were explaining why you had no interest in fixing things I complained about because you felt insulted yet you were being extremely insulting at the time With any luck you can learn to be less of a jerk GregLindahl          \n",
       "93890                                                                                                                                                                                                                                                                                                                                                                                                                                                                                                                                                                                                                                                                                                                                                                                                                                                                                                                                                                                                                                                                                                                                                                                                                                                                                                                                                                                                                                                                                                                                                                                                                                                                                                                                                                                                                                                                                                                                                                                                                                                                                                                                                                                                                                                                                                                                                                                                                                                                                                                                                                                                                                                                                                                                                                                                                                                                                                                                                                                                                                                                                                                                                                                                                                                                                                                                                                                                                                                                                                                                                                                                                                                                                                                                                                                                                                                                                                                                                                                                                                                                                                                                                                                                                                                                                                                                                                                                                                                                                                                                                                                                                                                                                                                                                             This page will need disambiguation    \n",
       "102817                                                                                                                                                                                                                                                                                                                                                                                                                                                                                                                                                                                                                                                                                                                                                                                                                                                                                                                                                                                                                                                                                                                                                                                                                                                                                                                                                                                                                                                                                                                                                                                                                                                                                                                                                                                                                                                                                                                                                                                                                                                                                                                                                                                                                                                                                                                                                                                                                                                                                                                                                                                                                                                                                                                                                                                                                                                                                                                                                                                                                                                                                                                                                                                                                                                                                                                                                                                                                                                                                                                                                                                                                                                                                                                                                                                                                                                                                                                                                                                                                                                                                                                                                                                                                                                                                                                                                                                                                                                                                                                              Important note for all sysops There is a bug in the administrative move feature that truncates the moved history and changes the edit times  Please do not use this feature until this bug is fixed More information can be found in the talk of  and  Thank you    \n",
       "103624                                                                                                                                                                                                                                                                                                                                                                                                                                                                                                                                                                                                                                                                                                                                                                                                                                                                                                                                                                                                                                                                                                                                                                                                                                                                                                                                                                                                                                                                                                                                                                                                                                                                                                                                                                                                                                                                                                                                                                                                                                                                                                                                                                                                                                                                                                                                                                                                                                                                                                                                                                                                                                                                                                                                                                                                                                                                                                                                                                                                                                                                                                                                                                                                                                                                                                                                                                                                                                                                                                                                                                                                                                                                                                                                                                                                                                                                                                                                                                                                                                                                                                                                                                                                                                                                                                                                                                                               I removed the following  All names of early Polish rulers are ficticious and therefore this index naming Oda von Haldensleben and her husband Dagome records for the first time rulers of the Polanen tribe Therefore it is indicated as being the first document of the later developing land named Poland  This is quite a comment All names are fictitious It deserves at least some backing    \n",
       "111032  If you ever claimed in a Judaic studies program that ultraOrthodox Jews dont have rabbis or dont have synagogues you would be laughed out of the room   I am beginning to see the problem you have You see you do not know how to read what other people say without attaching your personal bias to it Never once did I say that ultraOrthodox Jews have no rabbis or synagogues I DID say that the role of the rabbi and synagogue in ultraOrthodox Judaism is minimal when compared with say Conservative Judaism They are not clergy in the traditional Western sense of the word That is a fact As for synagogues they exist but they are not essential Minyan a quorum of ten adult males in ultraOrthodox law is essential You can have a minyan without a synagogue but a synagogue without a minyan is an empty building You can laugh all you want but it doesnt change the facts It may seem strange to you but take the statement to anyone who actually knows something I want to know who laughs then   If you ever claimed in a recognized Judaica studies program that a significant number of ultraOrthodox rabbis accept and follow Modern Orthodox responsa instead of their own people would look at you as if you had two heads   Also a silly point If you were to draw such sharp distinctions between ultraOrthodox and Modern Orthodox Judaism in a recognized Judaic Studies program they would not know what you are talking about A That statement is false because responsa in Orthodoxy does not work on the basis of someones synagogue affiliation B What is a Modern Orthodox responsa versus an ultraOrthodox responsa C In cases where things like hashgacha kosher certification etc are debated you will find in most cases that it is not a question of responsa If you know something about responsa literature in general which apparently you do not there are degrees of acceptance For example halav yisrael milk under rabbinical supervision during milking to ensure that it comes from a cow Most modernOrthodox Jews do not insist on it t on the basis of a responsa by Rabbi Moshe Feinstein who determined that American government supervision is sufficient Most ultraOrthodox Jews do insist on it They do not reject the responsa In fact Moshe Feinstein Reb Moshe as he was called was considered the leading halachic authority for the American ultraOrthodox community in the past fifty years They will say that the ruling is right BUT they want to be machmir more strict on themselves meaning more pious It is not a rejection It is simply being stricter Ovadya Yoseph said women could wear pants instead of skirts Would any of his daughters or daughtersinlaw be caught dead in pants No way They are machmir   You just cant make this stuff up Danny   I dunno I seem to be giving answers to everything you say and my answers are based on sources I am not making things up I am simply stating things that no matter how inconceivable it may be you do not know   Stop trying to remake the ultraOrthodox in your own image Its not good history Frankly I dont care what is on your resume It doesnt justify writing such nonsense  RK   Personal attacks I will say that your intellectual arrogance coupled with your apparent ignorance do not put you in a very good light   In my professional life I have researched and written extensively on this field developed relationships  both working and personal  with many of the people involved and worked on several important documentary films on the topic I think I have a sense of what NPOV is and a statement that the ultraOrthodox hate the nonultraOrthodox just doesnt make the mark    Is beating the shit out of nonOrthodox Jews an act of love Is calling them worse than Hitler an act of love Is accusing them of creating the Holocaust an act of tolerance Danny you can protest all you like but you obviously so immersed in an ultraOrthodox worldview that you cant see the forest for the trees This is violent hatespeech and it frightens me to see an educuated person making apologetics for it RK   Then it must frighten you even more knowing that I was actually there and on one occasion actually hit Why Because I do not feel the same antagonism that you do Because I see some distasteful remarks in a certain context You say in your diatribe that you want everyone to sit together and sing a Shlomo Carlebach niggun Just answer me this though Would Reb Shloime have davened in a shul without a mehitza   Oh and haredi does not mean trembling as you originally wrote at the top of the article In fact that was kind of funny You were apparently confused with the film Trembling Before God which    \n",
       "120283                                                                                                                                                                                                                                                                                                                                                                                                                                                                                                                                                                                                                                                                                                                                                                                                                                                                                                                                                                                                                                                                                                                                                                                                                                                                                                                                                                                                                                                                                                                                                                                                                                                                                                                                                                                                                                                                                                                                                                                                                                                                                                                                                                                                                                                                                                                                                                                                                                                                                                                                                                                                                                                                                                                                                                                                                                                                                                                                                                                                                                                                                                                                                                                                                                                                                                                                                                                                                                                                                                                                                                                                                                                                                                                                                                                                                                                                                                                                                                                                                                                                                                                                                                                                                                                                                                                                                                                                                                                                                                                                                                                                     My apologies  Im English I watch cricket I know nothing Maybe I was thinking of the time he spent in the Army or maybe I was thinking of Elvis or something Im glad the page got improved    \n",
       "128532                                                                                                                                                                                                                                                                                                                                                                                                                                                                                                                                                                                                                                                                                                                                                                                                                                                                                                                                                                                                                                                                                                                                                                                                                                                                                                                                                                                                                                                                                                                                                                                                                                                                                                                                                                                                                                                                                                                                                                                                                                                                                                                                                                                                                                                                                                                                                                                                                                                                                                 Someone wrote More recognizable perhaps is a type of what is generally called rock and roll called folk rock or simply folk which included performers such as Joan Baez Bob Dylan Simon and Garfunkel The Mamas and the Papas and many others   Ive tried to clarify this Folk rock is used very specifically and is typically far more recognised by instrumentation than form Many folk musicians of the s Tom Paxton Phil Ochs etc sang new topical material which distinguished them from traditional folk musicians but in the folk idiom acoustic instruments traditional arrangements and often traditional melodies  Re the comment about marketers in the first paragraph If language reflects common usage what is now called folk music has as much right to the name as any other form Gareth Owen  To the latter fair enough but does the first paragraph actually imply otherwise LMS  I like the page in general but wonder if the following is unnecessarily cynical implying as it does a financial rather than artistic incentive to change musical styles Some of these performers of which Joan Baez is an excellent example began their commercial music careers performing traditional music in a traditional idiom but soon transformed their style and accompaniment to suit popular tastes  Ya know I agree but I dont know how to change it right off Anyone else want to give it a stab LMS  The deletions are merely of things that seemed redundant Additions may solve the problem of tone mentioned above One bit of the original puzzles me so I corrected the grammar but left it inbut what does unrecognizable to its source actually mean  I like the new additionslots of good new information here I added some more The problem now is that the article is rambling and disorganized and I am probably not the best person to organize and clarify it BTW using the word purist without the quotes makes it sound as if the authors of the article are not purists which we dont want to imply  See neutral point of view LMS  Perhaps someone who knows the facts  could add in Skiffle music from whence the Beatles sprang which was evidently a British folk form in the s  Certainly the Beatles stole er utilised many folk forms in their music    \n",
       "\n",
       "        year  logged_in       ns  sample  split  attack  \n",
       "rev_id                                                   \n",
       "37675   2002      False  article  random  train   False  \n",
       "44816   2002      False  article  random  train   False  \n",
       "49851   2002      False  article  random  train   False  \n",
       "89320   2002       True  article  random    dev   False  \n",
       "93890   2002       True  article  random  train   False  \n",
       "102817  2002       True     user  random  train   False  \n",
       "103624  2002       True  article  random  train   False  \n",
       "111032  2002       True  article  random    dev   False  \n",
       "120283  2002       True  article  random    dev   False  \n",
       "128532  2002       True  article  random  train   False  "
      ]
     },
     "execution_count": 12,
     "metadata": {},
     "output_type": "execute_result"
    }
   ],
   "source": [
    "#To check the clean data\n",
    "pd.set_option('display.max_colwidth', 10000)\n",
    "comments.head(10)"
   ]
  },
  {
   "cell_type": "markdown",
   "metadata": {},
   "source": [
    "### To validate if nulls are present in data and clean them up"
   ]
  },
  {
   "cell_type": "code",
   "execution_count": 13,
   "metadata": {
    "scrolled": true
   },
   "outputs": [
    {
     "data": {
      "text/plain": [
       "False"
      ]
     },
     "execution_count": 13,
     "metadata": {},
     "output_type": "execute_result"
    }
   ],
   "source": [
    "# To check if any value is null\n",
    "annotations.isnull().values.any()\n",
    "comments.isnull().values.any()"
   ]
  },
  {
   "cell_type": "code",
   "execution_count": 14,
   "metadata": {
    "scrolled": true
   },
   "outputs": [
    {
     "data": {
      "text/html": [
       "<div>\n",
       "<style scoped>\n",
       "    .dataframe tbody tr th:only-of-type {\n",
       "        vertical-align: middle;\n",
       "    }\n",
       "\n",
       "    .dataframe tbody tr th {\n",
       "        vertical-align: top;\n",
       "    }\n",
       "\n",
       "    .dataframe thead th {\n",
       "        text-align: right;\n",
       "    }\n",
       "</style>\n",
       "<table border=\"1\" class=\"dataframe\">\n",
       "  <thead>\n",
       "    <tr style=\"text-align: right;\">\n",
       "      <th></th>\n",
       "      <th>year</th>\n",
       "    </tr>\n",
       "  </thead>\n",
       "  <tbody>\n",
       "    <tr>\n",
       "      <th>count</th>\n",
       "      <td>115864.000000</td>\n",
       "    </tr>\n",
       "    <tr>\n",
       "      <th>mean</th>\n",
       "      <td>2009.224306</td>\n",
       "    </tr>\n",
       "    <tr>\n",
       "      <th>std</th>\n",
       "      <td>2.900431</td>\n",
       "    </tr>\n",
       "    <tr>\n",
       "      <th>min</th>\n",
       "      <td>2001.000000</td>\n",
       "    </tr>\n",
       "    <tr>\n",
       "      <th>25%</th>\n",
       "      <td>2007.000000</td>\n",
       "    </tr>\n",
       "    <tr>\n",
       "      <th>50%</th>\n",
       "      <td>2009.000000</td>\n",
       "    </tr>\n",
       "    <tr>\n",
       "      <th>75%</th>\n",
       "      <td>2011.000000</td>\n",
       "    </tr>\n",
       "    <tr>\n",
       "      <th>max</th>\n",
       "      <td>2016.000000</td>\n",
       "    </tr>\n",
       "  </tbody>\n",
       "</table>\n",
       "</div>"
      ],
      "text/plain": [
       "                year\n",
       "count  115864.000000\n",
       "mean     2009.224306\n",
       "std         2.900431\n",
       "min      2001.000000\n",
       "25%      2007.000000\n",
       "50%      2009.000000\n",
       "75%      2011.000000\n",
       "max      2016.000000"
      ]
     },
     "execution_count": 14,
     "metadata": {},
     "output_type": "execute_result"
    }
   ],
   "source": [
    "comments.describe()"
   ]
  },
  {
   "cell_type": "code",
   "execution_count": 15,
   "metadata": {
    "scrolled": true
   },
   "outputs": [
    {
     "name": "stdout",
     "output_type": "stream",
     "text": [
      "<class 'pandas.core.frame.DataFrame'>\n",
      "Int64Index: 115864 entries, 37675 to 699897151\n",
      "Data columns (total 7 columns):\n",
      " #   Column     Non-Null Count   Dtype \n",
      "---  ------     --------------   ----- \n",
      " 0   comment    115864 non-null  object\n",
      " 1   year       115864 non-null  int64 \n",
      " 2   logged_in  115864 non-null  bool  \n",
      " 3   ns         115864 non-null  object\n",
      " 4   sample     115864 non-null  object\n",
      " 5   split      115864 non-null  object\n",
      " 6   attack     115864 non-null  bool  \n",
      "dtypes: bool(2), int64(1), object(4)\n",
      "memory usage: 5.5+ MB\n"
     ]
    }
   ],
   "source": [
    "comments.info()"
   ]
  },
  {
   "cell_type": "code",
   "execution_count": 16,
   "metadata": {
    "scrolled": true
   },
   "outputs": [
    {
     "data": {
      "text/plain": [
       "False    107190\n",
       "True       8674\n",
       "Name: attack, dtype: int64"
      ]
     },
     "execution_count": 16,
     "metadata": {},
     "output_type": "execute_result"
    }
   ],
   "source": [
    "#Shows that classes are imbalanced\n",
    "comments['attack'].value_counts()"
   ]
  },
  {
   "cell_type": "code",
   "execution_count": 17,
   "metadata": {
    "scrolled": true
   },
   "outputs": [
    {
     "data": {
      "image/png": "[encoded data removed]",
      "text/plain": [
       "<Figure size 432x288 with 1 Axes>"
      ]
     },
     "metadata": {
      "needs_background": "light"
     },
     "output_type": "display_data"
    }
   ],
   "source": [
    "#displays the imbalance in the data\n",
    "ax = sns.countplot(x=\"attack\", hue=\"attack\",data=comments)"
   ]
  },
  {
   "cell_type": "code",
   "execution_count": 18,
   "metadata": {},
   "outputs": [],
   "source": [
    "from sklearn.utils import resample\n",
    "\n",
    "# Separate majority(attack = False) and minority(attack = True) class\n",
    "majority = comments[comments.attack==0]\n",
    "minority = comments[comments.attack==1]\n",
    " \n",
    "# Upsample minority class\n",
    "minority_upsampled = resample(minority, \n",
    "                                 replace=True,     # Do resampling with replacement\n",
    "                                 n_samples=107190,    # Number same as majority class to ensure they balance\n",
    "                                 random_state=11)\n",
    " \n",
    "# Combine majority class with upsampled minority class to generate dataframe with balanced class values\n",
    "upsampled = pd.concat([majority, minority_upsampled])\n",
    " \n",
    "# Display new class counts\n",
    "upsampled.attack.value_counts()\n",
    "# Reset to the comments dataframe\n",
    "comments = upsampled"
   ]
  },
  {
   "cell_type": "markdown",
   "metadata": {},
   "source": [
    "### Case 1: Using Train and Test split based on the column value \n",
    "(Consider only Comment as Feature)"
   ]
  },
  {
   "cell_type": "code",
   "execution_count": 19,
   "metadata": {},
   "outputs": [],
   "source": [
    "#Train and Test split\n",
    "train_comments = comments.query(\"split=='train'\")\n",
    "test_comments = comments.query(\"split=='test'\")\n",
    "X_train = train_comments['comment']\n",
    "y_train = train_comments['attack']\n",
    "X_test = test_comments['comment']\n",
    "y_test = test_comments['attack']\n"
   ]
  },
  {
   "cell_type": "markdown",
   "metadata": {},
   "source": [
    "#### Model : Using Tf-idf Vectorizer  and Linear SVC (Selecting the model - Final)\n",
    "For the Vectorizer : used cleaned comments and further remove the stop words.\n",
    "Hyper Tuned parameters like ngram range\n",
    "Result Accuracy = 0.96\n"
   ]
  },
  {
   "cell_type": "code",
   "execution_count": 20,
   "metadata": {
    "scrolled": true
   },
   "outputs": [
    {
     "name": "stdout",
     "output_type": "stream",
     "text": [
      "              precision    recall  f1-score   support\n",
      "\n",
      "       False       0.80      0.96      0.88     21385\n",
      "        True       0.96      0.77      0.85     22123\n",
      "\n",
      "    accuracy                           0.87     43508\n",
      "   macro avg       0.88      0.87      0.86     43508\n",
      "weighted avg       0.88      0.87      0.86     43508\n",
      "\n",
      "Accuracy: 0.8653351107842235\n"
     ]
    }
   ],
   "source": [
    "''' For imbalanced data: Performance is:\n",
    "\n",
    "precision    recall  f1-score   support\n",
    "\n",
    "       False       0.97      0.99      0.98     21385\n",
    "        True       0.85      0.63      0.72      1793\n",
    "\n",
    "    accuracy                           0.96     23178\n",
    "   macro avg       0.91      0.81      0.85     23178\n",
    "weighted avg       0.96      0.96      0.96     23178\n",
    "\n",
    "Accuracy: 0.9626801277073087'''\n",
    "from sklearn.svm import LinearSVC\n",
    "clf = Pipeline([\n",
    "    ('tfidf', TfidfVectorizer(max_features = 10000, ngram_range = (1,1),norm = 'l2',analyzer ='word', lowercase = True, stop_words ={'english'}, strip_accents = 'ascii')),\n",
    "    ('clf', LinearSVC(random_state=87,C=1.5,max_iter = 1871))\n",
    "])\n",
    "\n",
    "clf = clf.fit(X_train, y_train)\n",
    "y_predict = clf.predict(X_test)\n",
    "met= metrics.classification_report(y_test, y_predict)\n",
    "print(met)\n",
    "print(\"Accuracy:\", accuracy_score(y_test, y_predict))"
   ]
  },
  {
   "cell_type": "code",
   "execution_count": 21,
   "metadata": {},
   "outputs": [
    {
     "name": "stdout",
     "output_type": "stream",
     "text": [
      "[[20615   770]\n",
      " [ 5089 17034]]\n"
     ]
    },
    {
     "data": {
      "image/png": "[encoded data removed]",
      "text/plain": [
       "<Figure size 432x288 with 2 Axes>"
      ]
     },
     "metadata": {
      "needs_background": "light"
     },
     "output_type": "display_data"
    }
   ],
   "source": [
    "print(metrics.confusion_matrix(y_test, clf.predict(X_test), labels=[False,True]))\n",
    "sns.heatmap(metrics.confusion_matrix(y_test, clf.predict(X_test), labels=[False, True]), annot=True)\n",
    "plt.xlabel('predicted')\n",
    "plt.ylabel('actual')\n",
    "plt.show()"
   ]
  },
  {
   "cell_type": "markdown",
   "metadata": {},
   "source": [
    "### Case 2: Train and Test split by randomizing/shuffling and stratification\n",
    "Stratification ensures to preserving the percentage of samples for each class.\n",
    "Comment is considered as Feature"
   ]
  },
  {
   "cell_type": "code",
   "execution_count": 22,
   "metadata": {
    "scrolled": false
   },
   "outputs": [],
   "source": [
    "from sklearn.model_selection import train_test_split\n",
    "# Take the comments as X\n",
    "X_df = comments.comment\n",
    "# Take the attack as class value\n",
    "y_df = comments[\"attack\"]\n",
    "#Split into test-train data, ensuring shuffling and stratification\n",
    "X_train_df, X_test_df,y_train_df, y_test_df = train_test_split(X_df,y_df,test_size=0.3,random_state = 131, shuffle = True, stratify=y_df)"
   ]
  },
  {
   "cell_type": "code",
   "execution_count": 23,
   "metadata": {
    "scrolled": false
   },
   "outputs": [
    {
     "name": "stdout",
     "output_type": "stream",
     "text": [
      "              precision    recall  f1-score   support\n",
      "\n",
      "       False       0.99      0.95      0.97     32157\n",
      "        True       0.95      0.99      0.97     32157\n",
      "\n",
      "    accuracy                           0.97     64314\n",
      "   macro avg       0.97      0.97      0.97     64314\n",
      "weighted avg       0.97      0.97      0.97     64314\n",
      "\n",
      "Accuracy: 0.9687315359019809\n"
     ]
    }
   ],
   "source": [
    "''' For imbalanced data: Performance is:\n",
    "precision    recall  f1-score   support\n",
    "\n",
    "       False       0.97      0.99      0.98     32158\n",
    "        True       0.83      0.66      0.73      2602\n",
    "\n",
    "    accuracy                           0.96     34760\n",
    "   macro avg       0.90      0.82      0.86     34760\n",
    "weighted avg       0.96      0.96      0.96     34760\n",
    "\n",
    "Accuracy: 0.9643268124280783'''\n",
    "\n",
    "# Model Generation for balanced dataset\n",
    "\n",
    "clf_4 = Pipeline([('tfidf', TfidfVectorizer(max_features = 10000, ngram_range = (1,1),norm = 'l2',analyzer ='word', lowercase = True, stop_words ={'english'}, strip_accents = 'ascii')),\n",
    "    ('clf', LinearSVC(random_state=87,C=1.5,max_iter = 1871))\n",
    "])\n",
    "clf_4 = clf_4.fit(X_train_df, y_train_df)\n",
    "y_predict_4 = clf_4.predict(X_test_df)\n",
    "met_4 = metrics.classification_report(y_test_df, y_predict_4)\n",
    "print(met_4)\n",
    "print(\"Accuracy:\", accuracy_score(y_test_df, y_predict_4))"
   ]
  },
  {
   "cell_type": "code",
   "execution_count": 24,
   "metadata": {},
   "outputs": [
    {
     "name": "stdout",
     "output_type": "stream",
     "text": [
      "[[20658   727]\n",
      " [  165 21958]]\n"
     ]
    },
    {
     "data": {
      "image/png": "[encoded data removed]",
      "text/plain": [
       "<Figure size 432x288 with 2 Axes>"
      ]
     },
     "metadata": {
      "needs_background": "light"
     },
     "output_type": "display_data"
    }
   ],
   "source": [
    "print(metrics.confusion_matrix(test_comments['attack'], clf_4.predict(test_comments['comment']), labels=[False,True]))\n",
    "sns.heatmap(metrics.confusion_matrix(test_comments['attack'], clf_4.predict(test_comments['comment']), labels=[False, True]), annot=True)\n",
    "plt.xlabel('predicted')\n",
    "plt.ylabel('actual')\n",
    "plt.show()"
   ]
  },
  {
   "cell_type": "code",
   "execution_count": 25,
   "metadata": {},
   "outputs": [
    {
     "data": {
      "text/plain": [
       "array([False])"
      ]
     },
     "execution_count": 25,
     "metadata": {},
     "output_type": "execute_result"
    }
   ],
   "source": [
    "# correctly classify nice comment\n",
    "clf_4.predict(['Thanks for you contribution, you did a great job!'])"
   ]
  },
  {
   "cell_type": "code",
   "execution_count": 26,
   "metadata": {},
   "outputs": [
    {
     "data": {
      "text/plain": [
       "array([False])"
      ]
     },
     "execution_count": 26,
     "metadata": {},
     "output_type": "execute_result"
    }
   ],
   "source": [
    "clf_4.predict(['You are a good person!!!!'])"
   ]
  },
  {
   "cell_type": "code",
   "execution_count": 27,
   "metadata": {},
   "outputs": [
    {
     "data": {
      "text/plain": [
       "array([ True])"
      ]
     },
     "execution_count": 27,
     "metadata": {},
     "output_type": "execute_result"
    }
   ],
   "source": [
    "# correctly classify nasty comment\n",
    "clf_4.predict(['People as stupid as you should not edit Wikipedia!'])"
   ]
  },
  {
   "cell_type": "code",
   "execution_count": 28,
   "metadata": {},
   "outputs": [
    {
     "data": {
      "text/plain": [
       "array([ True])"
      ]
     },
     "execution_count": 28,
     "metadata": {},
     "output_type": "execute_result"
    }
   ],
   "source": [
    "clf_4.predict(['You are an idiot!'])"
   ]
  },
  {
   "cell_type": "markdown",
   "metadata": {},
   "source": [
    "# Report:\n",
    "\n",
    "Using Python 3 version\n",
    "\n",
    "## Step 1: Analyzing the dataset:\n",
    "The dataset contains various columns/features like - comment, year, logged_in, ns,sample, split\n",
    "Class = attack (Type= boolean, False = not a personal attack, good comment; True = Personal attack, bad comment)\n",
    "\n",
    "## Step 2: Data Cleaning:\n",
    "The comment is user-defined. Thus, will have a lot of slang, punctuations, typos, extra spaces, etc.\n",
    "Thus, we need to clean the data. 'Comment' feature is the most important feature to decide if it's a personal attack or not.\n",
    "\n",
    "**Following cleaning steps are carried out:**\n",
    "1. Removing NewLine Token\n",
    "2. Removing TabToken \n",
    "3. Removing Punctuations\n",
    "4. Removing Stop words (done on vectorizer)\n",
    "5. Removing english accent words.\n",
    "6. Check for NaN or None (No null or NaN found)\n",
    "\n",
    "All these are included in the final code.\n",
    "\n",
    "## Step 3: Feature Selection and Feature Extraction\n",
    "The most important Feature is 'comment'. Apart from comment I considered year and ns features too. However, they didn't contribute much to improve the performance and took a lot of run time. Thus, in my final code model, I have considered **'comment' as the only feature.**\n",
    "\n",
    "To use 'attack' information from different annotators I tried the following:\n",
    "1. Average and use threshold = 0.5\n",
    "2. Median and use threshold = 0.5 (Doesn't lead to significant improvement)\n",
    "3. Average and use threshold = 0.6 (Choosen)\n",
    "\n",
    "## Step 4: Optimizations\n",
    "I have included few optimizations -removing stop words and accents while performing Tf-idf vectorization. This ensures more cleaner data and TFIDF Vectorizer is more better as stop words are removed.\n",
    "\n",
    "## Step 5: Preparing Train and Test data\n",
    "\n",
    "**Part 1: Handling imbalanced data**\n",
    "In Step 1, I found out that the data is imbalanced.\n",
    "False    107190\n",
    "True       8674\n",
    "Name: attack, dtype: int64\n",
    "\n",
    "Thus, to get better performance, before applying the models, we make the data balanced(Used: from sklearn.utils import resample). This is very crucial as it will avoid model to be overfit or underfit.\n",
    "\n",
    "**Part 2: Randomizing and Stratifing the data**\n",
    "1. I tried to build model using the test and train label dataset. However, found that random split works better.\n",
    "2. Holdout Estimate method: This splits data into 70-30% (User defined)split. This is good as it is shuffled and stratified.\n",
    "\n"
   ]
  },
  {
   "cell_type": "markdown",
   "metadata": {},
   "source": [
    "## Step 6: Try Models\n",
    "\n",
    "Various Models were tried for combinations of different test-train datasets. (Without balancing the data)\n",
    "\n",
    "\n",
    "**Given Model/BaseLine**\n",
    "train_comments = comments.query(\"split=='train'\")\n",
    "test_comments = comments.query(\"split=='test'\")\n",
    "\n",
    "clf = Pipeline([\n",
    "    ('vect', CountVectorizer(max_features = 10000, ngram_range = (1,2))),\n",
    "    ('tfidf', TfidfTransformer(norm = 'l2')),\n",
    "    ('clf', DecisionTreeClassifier(random_state = 123)),\n",
    "])\n",
    "clf = clf.fit(train_comments['comment'], train_comments['attack'])\n",
    "\n",
    "met = metrics.classification_report(test_comments['attack'], clf.predict(test_comments['comment']))\n",
    "print(met)\n",
    "\n",
    "     precision    recall  f1-score   support\n",
    "\n",
    "       False       0.95      0.95      0.95     20422\n",
    "        True       0.63      0.61      0.62      2756\n",
    "\n",
    "    accuracy                           0.91     23178\n",
    "   macro avg       0.79      0.78      0.79     23178\n",
    "weighted avg       0.91      0.91      0.91     23178\n",
    "\n",
    "**Method 1: TF-idf and Gaussian NB:** (Discarded)\n",
    "\n",
    "from sklearn.ensemble import ExtraTreesClassifier\n",
    "from sklearn.base import BaseEstimator, TransformerMixin\n",
    "from sklearn.naive_bayes import GaussianNB\n",
    "\n",
    "class DenseTransformer(TransformerMixin):\n",
    "\n",
    "    def fit(self, X, y=None, **fit_params):\n",
    "        return self\n",
    "\n",
    "    def transform(self, X, y=None, **fit_params):\n",
    "        return X.todense()\n",
    "\n",
    "\n",
    "clf = Pipeline([\n",
    "    ('tfidf', TfidfVectorizer(max_features = 10000, ngram_range = (1,1),norm = 'l2',analyzer ='word', lowercase = True, stop_words ={'english'}, strip_accents = 'ascii')),\n",
    "    ('to_dense', DenseTransformer()), \n",
    "    ('clf', GaussianNB())\n",
    "])\n",
    "\n",
    "clf = clf.fit(X_train, y_train)\n",
    "y_predict = clf.predict(X_test)\n",
    "met= metrics.classification_report(y_test, y_predict)\n",
    "print(met)\n",
    "print(\"Accuracy:\", accuracy_score(y_test, y_predict))\n",
    "\n",
    "\n",
    "              precision    recall  f1-score   support\n",
    "\n",
    "       False       0.95      0.53      0.68     20422\n",
    "        True       0.19      0.81      0.31      2756\n",
    "\n",
    "    accuracy                           0.56     23178\n",
    "   macro avg       0.57      0.67      0.49     23178\n",
    "weighted avg       0.86      0.56      0.64     23178\n",
    "\n",
    "**Accuracy: 0.5633359219949953**\n",
    "\n",
    "**Model 2: Using Tf-idf Vectorizer and Logistic Regression**(Discarded)\n",
    "\n",
    "model_2 = Pipeline([\n",
    "    ('tfidf', TfidfVectorizer(max_features = 10000, ngram_range = (1,1),norm = 'l2',analyzer ='word', lowercase = True, stop_words ={'english'}, strip_accents = 'ascii')),\n",
    "    ('clf', LogisticRegression(random_state=0,max_iter = 865423))\n",
    "])\n",
    "\n",
    "model_2 = model_2.fit(X_train, y_train)\n",
    "y_predict = model_2.predict(X_test)\n",
    "met= metrics.classification_report(y_test, y_predict)\n",
    "print(met)\n",
    "print(\"Accuracy:\", accuracy_score(y_test, y_predict))\n",
    "\n",
    "\n",
    "              precision    recall  f1-score   support\n",
    "\n",
    "       False       0.94      0.99      0.97     20422\n",
    "        True       0.92      0.56      0.70      2756\n",
    "\n",
    "    accuracy                           0.94     23178\n",
    "   macro avg       0.93      0.78      0.83     23178\n",
    "weighted avg       0.94      0.94      0.94     23178\n",
    "\n",
    "**Accuracy: 0.9416688238847183**\n",
    "\n",
    "**Model 3: Using Tf-idf Vectorizer and MultinomialNB**(Discarded)\n",
    "\n",
    "from sklearn.ensemble import ExtraTreesClassifier\n",
    "from sklearn.base import BaseEstimator, TransformerMixin\n",
    "from sklearn.naive_bayes import MultinomialNB\n",
    "\n",
    "class DenseTransformer(TransformerMixin):\n",
    "\n",
    "    def fit(self, X, y=None, **fit_params):\n",
    "        return self\n",
    "\n",
    "    def transform(self, X, y=None, **fit_params):\n",
    "        return X.todense()\n",
    "\n",
    "\n",
    "clf = Pipeline([\n",
    "    ('tfidf', TfidfVectorizer(max_features = 10000, ngram_range = (1,1),norm = 'l2',analyzer ='word', lowercase = True, stop_words ={'english'}, strip_accents = 'ascii')),\n",
    "    ('to_dense', DenseTransformer()), \n",
    "    ('clf', MultinomialNB(alpha =0.5))\n",
    "])\n",
    "\n",
    "clf = clf.fit(X_train, y_train)\n",
    "y_predict = clf.predict(X_test)\n",
    "met= metrics.classification_report(y_test, y_predict)\n",
    "print(met)\n",
    "print(\"Accuracy:\", accuracy_score(y_test, y_predict))\n",
    "\n",
    "             precision    recall  f1-score   support\n",
    "\n",
    "       False       0.93      0.99      0.96     20422\n",
    "        True       0.92      0.49      0.64      2756\n",
    "\n",
    "    accuracy                           0.93     23178\n",
    "   macro avg       0.93      0.74      0.80     23178\n",
    "weighted avg       0.93      0.93      0.92     23178\n",
    "\n",
    "**Accuracy: 0.934075416343084**\n",
    "\n",
    "**Model 4: Using Tf-idf Vectorizer and LinearSVC**(Accepted as model)\n",
    "\n",
    "from sklearn.svm import LinearSVC\n",
    "#('clf', LinearSVC(random_state=87,C=0.5,max_iter = 1871))\n",
    "clf = Pipeline([\n",
    "    ('tfidf', TfidfVectorizer(max_features = 10000, ngram_range = (1,1),norm = 'l2',analyzer ='word', lowercase = True, stop_words ={'english'}, strip_accents = 'ascii')),\n",
    "    ('clf', LinearSVC(random_state=87,C=1.5,max_iter = 1871))\n",
    "])\n",
    "\n",
    "clf = clf.fit(X_train, y_train)\n",
    "y_predict = clf.predict(X_test)\n",
    "met= metrics.classification_report(y_test, y_predict)\n",
    "print(met)\n",
    "print(\"Accuracy:\", accuracy_score(y_test, y_predict))\n",
    "\n",
    "              precision    recall  f1-score   support\n",
    "\n",
    "       False       0.95      0.99      0.97     20422\n",
    "        True       0.86      0.65      0.74      2756\n",
    "\n",
    "    accuracy                           0.95     23178\n",
    "   macro avg       0.91      0.82      0.86     23178\n",
    "weighted avg       0.94      0.95      0.94     23178\n",
    "\n",
    "**Accuracy: 0.9464578479592717**\n",
    "\n",
    "## After balancing the imbalance data, model performances are as follows:\n",
    "\n",
    "**1. Test and train is as per column value**\n",
    "#Train and Test split\n",
    "\n",
    "train_comments = comments.query(\"split=='train'\")\n",
    "test_comments = comments.query(\"split=='test'\")\n",
    "X_train = train_comments['comment']\n",
    "y_train = train_comments['attack']\n",
    "X_test = test_comments['comment']\n",
    "y_test = test_comments['attack']\n",
    "\n",
    "from sklearn.svm import LinearSVC\n",
    "#('clf', LinearSVC(random_state=87,C=0.5,max_iter = 1871))\n",
    "clf = Pipeline([\n",
    "    ('tfidf', TfidfVectorizer(max_features = 10000, ngram_range = (1,1),norm = 'l2',analyzer ='word', lowercase = True, stop_words ={'english'}, strip_accents = 'ascii')),\n",
    "    ('clf', LinearSVC(random_state=87,C=1.5,max_iter = 1871))\n",
    "])\n",
    "\n",
    "clf = clf.fit(X_train, y_train)\n",
    "y_predict = clf.predict(X_test)\n",
    "met= metrics.classification_report(y_test, y_predict)\n",
    "print(met)\n",
    "print(\"Accuracy:\", accuracy_score(y_test, y_predict))\n",
    "\n",
    "\n",
    "               precision    recall  f1-score   support\n",
    "\n",
    "       False       0.80      0.96      0.88     21385\n",
    "        True       0.96      0.77      0.85     22123\n",
    "\n",
    "    accuracy                           0.87     43508\n",
    "   macro avg       0.88      0.87      0.86     43508\n",
    "weighted avg       0.88      0.87      0.86     43508\n",
    "\n",
    "**Accuracy: 0.8653351107842235**\n",
    "\n",
    "**Please note the value decreases since the data is not well shuffled between train and test after resampling**\n",
    "\n",
    "**2. Test and train is as per Holdout Estimate method(70% train, 30% test)**\n",
    "\n",
    "from sklearn.model_selection import train_test_split\n",
    "#Take the comments as X\n",
    "X_df = comments.comment\n",
    "#Take the attack as class value\n",
    "y_df = comments[\"attack\"]\n",
    "#Split into test-train data, ensuring shuffling and stratification\n",
    "X_train_df, X_test_df,y_train_df, y_test_df = train_test_split(X_df,y_df,test_size=0.3,random_state = 131, shuffle = True, stratify=y_df)\n",
    "\n",
    "\n",
    "clf_4 = Pipeline([('tfidf', TfidfVectorizer(max_features = 10000, ngram_range = (1,1),norm = 'l2',analyzer ='word', lowercase = True, stop_words ={'english'}, strip_accents = 'ascii')),\n",
    "    ('clf', LinearSVC(random_state=87,C=1.5,max_iter = 1871))\n",
    "])\n",
    "clf_4 = clf_4.fit(X_train_df, y_train_df)\n",
    "y_predict_4 = clf_4.predict(X_test_df)\n",
    "met_4 = metrics.classification_report(y_test_df, y_predict_4)\n",
    "print(met_4)\n",
    "print(\"Accuracy:\", accuracy_score(y_test_df, y_predict_4))\n",
    "\n",
    "\n",
    "             precision    recall  f1-score   support\n",
    "\n",
    "       False       0.99      0.95      0.97     32157\n",
    "        True       0.95      0.99      0.97     32157\n",
    "\n",
    "    accuracy                           0.97     64314\n",
    "   macro avg       0.97      0.97      0.97     64314\n",
    "weighted avg       0.97      0.97      0.97     64314\n",
    "\n",
    "**Accuracy: 0.9687315359019809**\n",
    "\n",
    "This is the Final model.\n"
   ]
  },
  {
   "cell_type": "markdown",
   "metadata": {},
   "source": [
    "## Step 7: Learning from different metrics\n",
    "\n",
    "In this case, since the classes are imbalanced, thus, precision-recall is a good performance measure.\n",
    "Precision is a measure of result relevancy. Recall is a measure of how many truly relevant results are returned.\n",
    "F1 score/F measure combines the precision and recall information.(Harmonic mean)\n",
    "Support is the number of actual occurrences of the class. - In this case, the support values show that there is data imbalance (possible cause of having lower value for 'True' class - *when model and evaluations are done without balancing the data).\n",
    "\n",
    "## Step 8: Improvements with Cross-Validation\n",
    "Yes, I tried cross-validation. However, it doesn't make significant improvement (since the train-test data was also shuffled already) in performance metrics (compared to final model) and consumed more time.\n",
    "\n",
    "Ex: Tried Stratified K-Fold and RepeatedStratifiedKFold (both give almost similar accuracy as Hold-out estimate method )\n",
    "\n",
    "from sklearn.model_selection import cross_val_score \n",
    "from sklearn.metrics import classification_report, accuracy_score, make_scorer \n",
    "from sklearn.model_selection import RepeatedStratifiedKFold \n",
    "originalclass = [] \n",
    "predictedclass = [] \n",
    "X_df = comments.comment \n",
    "y_df = comments[\"attack\"]\n",
    "\n",
    "#Generate classification report \n",
    "def classification_report_with_accuracy_score(y_true, y_pred): \n",
    "    originalclass.extend(y_true) \n",
    "    predictedclass.extend(y_pred) \n",
    "    return accuracy_score(y_true, y_pred) # return accuracy score\n",
    "\n",
    "outer_cv = RepeatedStratifiedKFold(n_splits=13, random_state= 1381, n_repeats = 5)\n",
    "\n",
    "clf = Pipeline([ ('tfidf', TfidfVectorizer(stop_words ={'english'}, strip_accents = 'ascii',ngram_range = (1,1))), ('clf', LinearSVC()) ])\n",
    "\n",
    "nested_score = cross_val_score(clf, X_df, y_df, cv=outer_cv, scoring=make_scorer(classification_report_with_accuracy_score)) \n",
    "print(classification_report(originalclass, predictedclass)) \n",
    "print(\"Accuracy:\", accuracy_score(originalclass, predictedclass))\n",
    "\n",
    "\n",
    "## Step 9: Final Result Metrics\n",
    "The best result is found when data is cleaned, balanced, test and train data is randomly split and **model used is : Tf-idf Vectorizer and LinearSVC**\n",
    "Compared to strawman figure the performance is improved from **91% to 97% accuracy**\n",
    "\n",
    "\n",
    "## Most intersting things learned\n",
    "User data like comments in this case can be vague. Thus, to get better analysis, a lot of factors play role.\n",
    "Data cleaning, Feature extraction, getting data split well such that class distribution is maintained (shuffling, stratification), choosing the model, hypertuning the parameters and performance evaluation.\n",
    "Each step is equally important to get the best fit.\n",
    "\n",
    "\n",
    "## Hardest thing to do\n",
    "There are lot of factors in getting a better model. Data cleaning, Features, ML model used, different ways to split data, hyperparameters, etc. Thus, there was lot of time spend on trying to understand which combination works best.\n",
    "Sometimes, making the model complex increases runtime but doesn't change the performance. This was crucial in understanding and deciding upon which model to choose."
   ]
  }
 ],
 "metadata": {
  "anaconda-cloud": {},
  "kernelspec": {
   "display_name": "Python 3",
   "language": "python",
   "name": "python3"
  },
  "language_info": {
   "codemirror_mode": {
    "name": "ipython",
    "version": 3
   },
   "file_extension": ".py",
   "mimetype": "text/x-python",
   "name": "python",
   "nbconvert_exporter": "python",
   "pygments_lexer": "ipython3",
   "version": "3.7.6"
  }
 },
 "nbformat": 4,
 "nbformat_minor": 1
}
